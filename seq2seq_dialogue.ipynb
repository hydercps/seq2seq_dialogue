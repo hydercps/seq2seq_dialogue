{
 "cells": [
  {
   "cell_type": "code",
   "execution_count": 1,
   "metadata": {
    "collapsed": false
   },
   "outputs": [
    {
     "name": "stderr",
     "output_type": "stream",
     "text": [
      "Using Theano backend.\n",
      "/home/is33/Envs/alexa_seq2seq/lib/python2.7/site-packages/gensim/utils.py:1015: UserWarning: Pattern library is not installed, lemmatization won't be available.\n",
      "  warnings.warn(\"Pattern library is not installed, lemmatization won't be available.\")\n"
     ]
    }
   ],
   "source": [
    "from os import getcwd, path\n",
    "import logging\n",
    "\n",
    "from data_utils import pad_and_bucket, START_VOCAB\n",
    "\n",
    "logging.getLogger().setLevel('INFO')\n",
    "\n",
    "# We use a number of buckets and pad to the closest one for efficiency.\n",
    "# See seq2seq_model.Seq2SeqModel for details of how they work.\n",
    "BUCKETS = [(5, 10), (10, 15), (20, 25), (40, 50)]\n",
    "\n",
    "VOCABULARY_SIZE = 40000 + len(START_VOCAB)\n",
    "LAYER_SIZE = 256\n",
    "MAX_LAYERS = 3\n",
    "MAX_GRADIENT_NORM = 5.0\n",
    "BATCH_SIZE = 1\n",
    "LEARNING_RATE = 9.0\n",
    "LEARNING_RATE_DECAY_FACTOR = 0.01\n",
    "FORWARD_ONLY = False\n",
    "\n",
    "DATASET_DIR = path.join(\n",
    "    getcwd(),\n",
    "    '..',\n",
    "    'opensubtitles_tools',\n",
    "    'opensubtitles_seq2seq_dataset'\n",
    ")\n",
    "WORKING_DIR = path.join(getcwd(), 'result')\n",
    "WORD2VEC_MODEL_PATH = path.join(\n",
    "    getcwd(),\n",
    "    '..',\n",
    "    'word2vec_google_news',\n",
    "    'GoogleNews-vectors-negative300.bin'\n",
    ")"
   ]
  },
  {
   "cell_type": "code",
   "execution_count": 2,
   "metadata": {
    "collapsed": false
   },
   "outputs": [],
   "source": [
    "from keras.models import Sequential\n",
    "from keras.layers import Embedding\n",
    "\n",
    "from seq2seq.models import AttentionSeq2Seq\n",
    "\n",
    "def create_model(in_embedding_matrix):\n",
    "    effective_vocabulary_size, embedding_size = in_embedding_matrix.shape\n",
    "    embedding_layer = Embedding(\n",
    "        effective_vocabulary_size,\n",
    "        embedding_size,\n",
    "        weights=[in_embedding_matrix],\n",
    "        input_length=BUCKETS[1][0],\n",
    "        trainable=True\n",
    "    )\n",
    "    seq2seq_model = AttentionSeq2Seq(\n",
    "        input_dim=embedding_size,\n",
    "        input_length=BUCKETS[1][0],\n",
    "        output_dim=effective_vocabulary_size,\n",
    "        hidden_dim=64,\n",
    "        output_length=BUCKETS[1][1],\n",
    "        depth=3,\n",
    "        dropout=0.2\n",
    "    )\n",
    "    model = Sequential()\n",
    "    model.add(embedding_layer)\n",
    "    model.add(seq2seq_model)\n",
    "    model.compile(loss='mse', optimizer='sgd')\n",
    "    return model"
   ]
  },
  {
   "cell_type": "code",
   "execution_count": 8,
   "metadata": {
    "collapsed": true
   },
   "outputs": [],
   "source": [
    "from os import makedirs, path\n",
    "\n",
    "from data_utils import prepare_custom_data\n",
    "\n",
    "\n",
    "def prepare_data():\n",
    "    # prepare dataset\n",
    "    logging.info('Preparing data')\n",
    "    if not path.exists(WORKING_DIR):\n",
    "        makedirs(WORKING_DIR)\n",
    "    return prepare_custom_data(\n",
    "        WORKING_DIR,\n",
    "        path.join(DATASET_DIR, 'train.enc'),\n",
    "        path.join(DATASET_DIR, 'train.dec'),\n",
    "        path.join(DATASET_DIR, 'test.enc'),\n",
    "        path.join(DATASET_DIR, 'test.dec'),\n",
    "        WORD2VEC_MODEL_PATH,\n",
    "        path.join(DATASET_DIR, 'embeddings.npy'),\n",
    "        BUCKETS\n",
    "    )"
   ]
  },
  {
   "cell_type": "code",
   "execution_count": 4,
   "metadata": {
    "collapsed": true
   },
   "outputs": [],
   "source": [
    "def train(train_set, dev_set):\n",
    "    train_bucket_sizes = [len(train_set[b]) for b in xrange(len(BUCKETS))]\n",
    "    train_total_size = float(sum(train_bucket_sizes))\n",
    "\n",
    "    # A bucket scale is a list of increasing numbers from 0 to 1 that we'll use\n",
    "    # to select a bucket. Length of [scale[i], scale[i+1]] is proportional to\n",
    "    # the size if i-th training bucket, as used later.\n",
    "    train_buckets_scale = [\n",
    "        sum(train_bucket_sizes[:i + 1]) / train_total_size\n",
    "        for i in xrange(len(train_bucket_sizes))\n",
    "    ]\n",
    "\n",
    "    model = create_model()\n",
    "    # Choose a bucket according to data distribution. We pick a random number\n",
    "    # in [0, 1] and use the corresponding interval in train_buckets_scale.\n",
    "    random_number_01 = np.random.random_sample()\n",
    "    bucket_id = min([\n",
    "        i for i in xrange(len(train_buckets_scale))\n",
    "        if random_number_01 < train_buckets_scale[i]\n",
    "    ])\n",
    "    # Get a batch and make a step\n",
    "    encoder_inputs, decoder_inputs, target_weights = model.get_batch(train_set, bucket_id)\n",
    "    model.fit(encoder_inputs, decoder_inputs)\n",
    "    return model\n",
    "\n",
    "    with tf.Session(config=config) as sess:\n",
    "\n",
    "\n",
    "        # This is the training loop.\n",
    "        step_time, loss = 0.0, 0.0\n",
    "        current_step = 0\n",
    "        previous_losses = []\n",
    "        while True:\n",
    "\n",
    "          start_time = time.time()\n",
    "          _, step_loss, _ = model.step(sess, encoder_inputs, decoder_inputs,\n",
    "                                       target_weights, bucket_id, False)\n",
    "          step_time += (time.time() - start_time) / gConfig['steps_per_checkpoint']\n",
    "          loss += step_loss / gConfig['steps_per_checkpoint']\n",
    "          current_step += 1\n",
    "\n",
    "          # Once in a while, we save checkpoint, print statistics, and run evals.\n",
    "          if current_step % gConfig['steps_per_checkpoint'] == 0:\n",
    "            # Print statistics for the previous epoch.\n",
    "            perplexity = math.exp(loss) if loss < 300 else float('inf')\n",
    "            print (\"global step %d learning rate %.4f step-time %.2f perplexity \"\n",
    "                   \"%.2f\" % (model.global_step.eval(), model.learning_rate.eval(),\n",
    "                             step_time, perplexity))\n",
    "            # Decrease learning rate if no improvement was seen over last 3 times.\n",
    "            if len(previous_losses) > 2 and loss > max(previous_losses[-3:]):\n",
    "              sess.run(model.learning_rate_decay_op)\n",
    "            previous_losses.append(loss)\n",
    "            # Save checkpoint and zero timer and loss.\n",
    "            checkpoint_path = path.join(gConfig['working_directory'], \"seq2seq.ckpt\")\n",
    "            model.saver.save(sess, checkpoint_path, global_step=model.global_step)\n",
    "            step_time, loss = 0.0, 0.0\n",
    "            # Run evals on development set and print their perplexity.\n",
    "            for bucket_id in xrange(len(_buckets)):\n",
    "              if len(dev_set[bucket_id]) == 0:\n",
    "                print(\"  eval: empty bucket %d\" % (bucket_id))\n",
    "                continue\n",
    "              encoder_inputs, decoder_inputs, target_weights = model.get_batch(\n",
    "                  dev_set, bucket_id)\n",
    "              _, eval_loss, _ = model.step(sess, encoder_inputs, decoder_inputs,\n",
    "                                           target_weights, bucket_id, True)\n",
    "              eval_ppx = math.exp(eval_loss) if eval_loss < 300 else float('inf')\n",
    "              print(\"  eval: bucket %d perplexity %.2f\" % (bucket_id, eval_ppx))\n",
    "            sys.stdout.flush()"
   ]
  },
  {
   "cell_type": "code",
   "execution_count": 5,
   "metadata": {
    "collapsed": false
   },
   "outputs": [],
   "source": [
    "import numpy as np\n",
    "\n",
    "import data_utils\n",
    "import seq2seq_dialogue_model\n",
    "\n",
    "\n",
    "def decode():\n",
    "  with tf.Session() as sess:\n",
    "    # Create model and load parameters.\n",
    "    model = create_model(sess, True)\n",
    "    model.batch_size = 1  # We decode one sentence at a time.\n",
    "\n",
    "    # Load vocabularies.\n",
    "    enc_vocab_path = os.path.join(gConfig['working_directory'],\"vocab%d.enc\" % gConfig['enc_vocab_size'])\n",
    "    dec_vocab_path = os.path.join(gConfig['working_directory'],\"vocab%d.dec\" % gConfig['dec_vocab_size'])\n",
    "\n",
    "    enc_vocab, _ = data_utils.initialize_vocabulary(enc_vocab_path)\n",
    "    _, rev_dec_vocab = data_utils.initialize_vocabulary(dec_vocab_path)\n",
    "\n",
    "    # Decode from standard input.\n",
    "    sys.stdout.write(\"> \")\n",
    "    sys.stdout.flush()\n",
    "    sentence = sys.stdin.readline()\n",
    "    while sentence:\n",
    "      # Get token-ids for the input sentence.\n",
    "      token_ids = data_utils.sentence_to_token_ids(tf.compat.as_bytes(sentence), enc_vocab)\n",
    "      # Which bucket does it belong to?\n",
    "      bucket_id = min([b for b in xrange(len(_buckets))\n",
    "                       if _buckets[b][0] > len(token_ids)])\n",
    "      # Get a 1-element batch to feed the sentence to the model.\n",
    "      encoder_inputs, decoder_inputs, target_weights = model.get_batch(\n",
    "          {bucket_id: [(token_ids, [])]}, bucket_id)\n",
    "      # Get output logits for the sentence.\n",
    "      _, _, output_logits = model.step(sess, encoder_inputs, decoder_inputs,\n",
    "                                       target_weights, bucket_id, True)\n",
    "      # This is a greedy decoder - outputs are just argmaxes of output_logits.\n",
    "      outputs = [int(np.argmax(logit, axis=1)) for logit in output_logits]\n",
    "      # If there is an EOS symbol in outputs, cut them at that point.\n",
    "      if data_utils.EOS_ID in outputs:\n",
    "        outputs = outputs[:outputs.index(data_utils.EOS_ID)]\n",
    "      # Print out French sentence corresponding to outputs.\n",
    "      print \" \".join([tf.compat.as_str(rev_dec_vocab[output]) for output in outputs])\n",
    "      print \"> \"\n",
    "      sys.stdout.flush()\n",
    "      sentence = sys.stdin.readline()\n",
    "\n",
    "\n",
    "def self_test():\n",
    "  \"\"\"Test the translation model.\"\"\"\n",
    "  with tf.Session() as sess:\n",
    "    print(\"Self-test for neural translation model.\")\n",
    "    # Create model with vocabularies of 10, 2 small buckets, 2 layers of 32.\n",
    "    model = seq2seq_model.Seq2SeqModel(10, 10, [(3, 3), (6, 6)], 32, 2,\n",
    "                                       5.0, 32, 0.3, 0.99, num_samples=8)\n",
    "    sess.run(tf.initialize_all_variables())\n",
    "\n",
    "    # Fake data set for both the (3, 3) and (6, 6) bucket.\n",
    "    data_set = ([([1, 1], [2, 2]), ([3, 3], [4]), ([5], [6])],\n",
    "                [([1, 1, 1, 1, 1], [2, 2, 2, 2, 2]), ([3, 3, 3], [5, 6])])\n",
    "    for _ in xrange(5):  # Train the fake model for 5 steps.\n",
    "      bucket_id = random.choice([0, 1])\n",
    "      encoder_inputs, decoder_inputs, target_weights = model.get_batch(\n",
    "          data_set, bucket_id)\n",
    "      model.step(sess, encoder_inputs, decoder_inputs, target_weights,\n",
    "                 bucket_id, False)\n",
    "\n",
    "\n",
    "def init_session(sess, conf='seq2seq.ini'):\n",
    "    global gConfig\n",
    "    gConfig = get_config(conf)\n",
    " \n",
    "    # Create model and load parameters.\n",
    "    model = create_model(sess, True)\n",
    "    model.batch_size = 1  # We decode one sentence at a time.\n",
    "\n",
    "    # Load vocabularies.\n",
    "    enc_vocab_path = os.path.join(gConfig['working_directory'],\"vocab%d.enc\" % gConfig['enc_vocab_size'])\n",
    "    dec_vocab_path = os.path.join(gConfig['working_directory'],\"vocab%d.dec\" % gConfig['dec_vocab_size'])\n",
    "\n",
    "    enc_vocab, _ = data_utils.initialize_vocabulary(enc_vocab_path)\n",
    "    _, rev_dec_vocab = data_utils.initialize_vocabulary(dec_vocab_path)\n",
    "\n",
    "    return sess, model, enc_vocab, rev_dec_vocab\n",
    "\n",
    "\n",
    "def decode_line(sess, model, enc_vocab, rev_dec_vocab, sentence):\n",
    "    # Get token-ids for the input sentence.\n",
    "    token_ids = data_utils.sentence_to_token_ids(tf.compat.as_bytes(sentence), enc_vocab)\n",
    "\n",
    "    # Which bucket does it belong to?\n",
    "    bucket_id = min([b for b in xrange(len(_buckets)) if len(token_ids) < BUCKETS[b][0]])\n",
    "\n",
    "    # Get a 1-element batch to feed the sentence to the model.\n",
    "    encoder_inputs, decoder_inputs, target_weights = model.get_batch({bucket_id: [(token_ids, [])]}, bucket_id)\n",
    "\n",
    "    # Get output logits for the sentence.\n",
    "    _, _, output_logits = model.step(sess, encoder_inputs, decoder_inputs, target_weights, bucket_id, True)\n",
    "\n",
    "    # This is a greedy decoder - outputs are just argmaxes of output_logits.\n",
    "    outputs = [int(np.argmax(logit, axis=1)) for logit in output_logits]\n",
    "\n",
    "    # If there is an EOS symbol in outputs, cut them at that point.\n",
    "    if data_utils.STOP_ID in outputs:\n",
    "        outputs = outputs[:outputs.index(data_utils.STOP_ID)]\n",
    "\n",
    "    return \" \".join([tf.compat.as_str(rev_dec_vocab[output]) for output in outputs])"
   ]
  },
  {
   "cell_type": "code",
   "execution_count": 9,
   "metadata": {
    "collapsed": false
   },
   "outputs": [
    {
     "name": "stderr",
     "output_type": "stream",
     "text": [
      "INFO:root:Preparing data\n",
      "INFO:root:Building embeddings matrix for encoder vocabulary\n",
      "INFO:gensim.models.word2vec:loading projection weights from /home/is33/data/seq2seq/../word2vec_google_news/GoogleNews-vectors-negative300.bin\n",
      "INFO:gensim.models.word2vec:loaded (3000000, 300) matrix from /home/is33/data/seq2seq/../word2vec_google_news/GoogleNews-vectors-negative300.bin\n"
     ]
    }
   ],
   "source": [
    "enc_vocab, enc_rev_vocab, dec_vocab, dec_rev_vocab, embeddings, train_set, dev_set = prepare_data()"
   ]
  },
  {
   "cell_type": "code",
   "execution_count": null,
   "metadata": {
    "collapsed": false
   },
   "outputs": [],
   "source": [
    "model = create_model()"
   ]
  },
  {
   "cell_type": "code",
   "execution_count": null,
   "metadata": {
    "collapsed": false
   },
   "outputs": [],
   "source": [
    "model.fit(\n",
    "    train_dataset[BUCKETS[1]]['inputs'],\n",
    "    train_dataset[BUCKETS[1]]['outputs'],\n",
    "    batch_size=1,\n",
    "    nb_epoch=10\n",
    ")"
   ]
  },
  {
   "cell_type": "code",
   "execution_count": null,
   "metadata": {
    "collapsed": false
   },
   "outputs": [],
   "source": [
    "model.evaluate(\n",
    "    np.asarray(dev_dataset[BUCKETS[1]]['inputs']),\n",
    "    np.asarray(dev_dataset[BUCKETS[1]]['outputs']),\n",
    "    batch_size=1\n",
    ")"
   ]
  },
  {
   "cell_type": "code",
   "execution_count": null,
   "metadata": {
    "collapsed": false
   },
   "outputs": [],
   "source": [
    "reload(data_utils)"
   ]
  }
 ],
 "metadata": {
  "kernelspec": {
   "display_name": "Python 2",
   "language": "python",
   "name": "python2"
  },
  "language_info": {
   "codemirror_mode": {
    "name": "ipython",
    "version": 2
   },
   "file_extension": ".py",
   "mimetype": "text/x-python",
   "name": "python",
   "nbconvert_exporter": "python",
   "pygments_lexer": "ipython2",
   "version": "2.7.12"
  }
 },
 "nbformat": 4,
 "nbformat_minor": 1
}
