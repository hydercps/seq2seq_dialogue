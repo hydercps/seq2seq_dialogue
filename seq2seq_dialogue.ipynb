{
 "cells": [
  {
   "cell_type": "code",
   "execution_count": 15,
   "metadata": {
    "collapsed": false
   },
   "outputs": [],
   "source": [
    "from seq2seq_dialogue import create_model\n",
    "import json\n",
    "from codecs import getreader\n",
    "from os import path, makedirs\n",
    "import numpy as np\n",
    "\n",
    "from batch_generator import BatchGenerator, generate_sequences"
   ]
  },
  {
   "cell_type": "code",
   "execution_count": 4,
   "metadata": {
    "collapsed": true
   },
   "outputs": [],
   "source": [
    "with getreader('utf-8')(open('config.json')) as config_in:\n",
    "    config = json.load(config_in)"
   ]
  },
  {
   "cell_type": "code",
   "execution_count": 8,
   "metadata": {
    "collapsed": false
   },
   "outputs": [],
   "source": [
    "MODEL_FILE = config['model_weights']\n",
    "MODEL_DIR = path.dirname(MODEL_FILE)\n",
    "if not path.exists(MODEL_DIR):\n",
    "    makedirs(MODEL_DIR)\n",
    "with getreader('utf-8')(open(config['vocabulary'])) as vocab_in:\n",
    "    VOCAB = [line.strip() for line in vocab_in]\n",
    "EMBEDDINGS = np.load(config['embeddings_matrix'])\n",
    "BUCKETS = config['buckets']"
   ]
  },
  {
   "cell_type": "code",
   "execution_count": 9,
   "metadata": {
    "collapsed": true
   },
   "outputs": [],
   "source": [
    "model_1 = create_model(VOCAB, VOCAB, EMBEDDINGS, BUCKETS[1][0], BUCKETS[1][1])\n",
    "model_1.save_weights(MODEL_FILE, overwrite=True)\n",
    "del model_1"
   ]
  },
  {
   "cell_type": "code",
   "execution_count": 16,
   "metadata": {
    "collapsed": false
   },
   "outputs": [
    {
     "name": "stdout",
     "output_type": "stream",
     "text": [
      "Epoch 1/2\n",
      "32/32 [==============================] - 30s - loss: 11.1481    \n",
      "Epoch 2/2\n",
      "32/32 [==============================] - 30s - loss: 11.1085    \n"
     ]
    },
    {
     "data": {
      "text/plain": [
       "<keras.callbacks.History at 0x7ff6dddd0110>"
      ]
     },
     "execution_count": 16,
     "metadata": {},
     "output_type": "execute_result"
    }
   ],
   "source": [
    "model_2 = create_model(VOCAB, VOCAB, EMBEDDINGS, BUCKETS[2][0], BUCKETS[2][1])\n",
    "model_2.load_weights(MODEL_FILE)\n",
    "train_batch_generator = BatchGenerator(\n",
    "    config['train_set'],\n",
    "    config['batch_size'],\n",
    "    VOCAB,\n",
    "    BUCKETS[2]\n",
    ")\n",
    "\n",
    "model_2.fit_generator(\n",
    "    generate_sequences(train_batch_generator),\n",
    "    nb_epoch=2,\n",
    "    samples_per_epoch=32\n",
    ")"
   ]
  }
 ],
 "metadata": {
  "kernelspec": {
   "display_name": "Python 2",
   "language": "python",
   "name": "python2"
  },
  "language_info": {
   "codemirror_mode": {
    "name": "ipython",
    "version": 2
   },
   "file_extension": ".py",
   "mimetype": "text/x-python",
   "name": "python",
   "nbconvert_exporter": "python",
   "pygments_lexer": "ipython2",
   "version": "2.7.12"
  }
 },
 "nbformat": 4,
 "nbformat_minor": 1
}
