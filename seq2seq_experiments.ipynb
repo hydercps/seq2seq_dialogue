{
 "cells": [
  {
   "cell_type": "code",
   "execution_count": 27,
   "metadata": {
    "collapsed": false
   },
   "outputs": [],
   "source": [
    "import numpy as np\n",
    "from codecs import getreader, getwriter\n",
    "from os import path, makedirs\n",
    "\n",
    "from data_utils import PAD_ID"
   ]
  },
  {
   "cell_type": "code",
   "execution_count": 28,
   "metadata": {
    "collapsed": false
   },
   "outputs": [],
   "source": [
    "encoder_dataset, decoder_dataset = np.load('dataset/train_encoder_0.npy'), np.load('dataset/train_decoder_0.npy')\n",
    "with getreader('utf-8')(open('dataset/vocab.txt')) as vocab_in:\n",
    "    vocabulary = [line.strip() for line in vocab_in]"
   ]
  },
  {
   "cell_type": "code",
   "execution_count": 29,
   "metadata": {
    "collapsed": false
   },
   "outputs": [],
   "source": [
    "SANITY_SET_SIZE = 200\n",
    "RESULT_FOLDER = 'sanity_check'\n",
    "\n",
    "if not path.exists(RESULT_FOLDER):\n",
    "    makedirs(RESULT_FOLDER)\n",
    "\n",
    "encoder_data, decoder_data = encoder_dataset[:SANITY_SET_SIZE], decoder_dataset[:SANITY_SET_SIZE]\n",
    "with getwriter('utf-8')(open(path.join(RESULT_FOLDER, 'train_0.txt'), 'w')) as dataset_out:\n",
    "    for encoder_sequence, decoder_sequence in zip(encoder_data, decoder_data):\n",
    "        encoder_string = ' '.join([\n",
    "            vocabulary[token_id]\n",
    "            for token_id in encoder_sequence\n",
    "            # if token_id not in [PAD_ID]\n",
    "        ])\n",
    "        decoder_string = ' '.join([\n",
    "            vocabulary[token_id]\n",
    "            for token_id in decoder_sequence\n",
    "            # if token_id not in [PAD_ID]\n",
    "        ])\n",
    "        print >>dataset_out, u';'.join([encoder_string, decoder_string])\n",
    "\n",
    "np.save(path.join(RESULT_FOLDER, 'train_encoder_0.txt'), encoder_data)\n",
    "np.save(path.join(RESULT_FOLDER, 'train_decoder_0.txt'), decoder_data)"
   ]
  }
 ],
 "metadata": {
  "kernelspec": {
   "display_name": "Python 2",
   "language": "python",
   "name": "python2"
  },
  "language_info": {
   "codemirror_mode": {
    "name": "ipython",
    "version": 2
   },
   "file_extension": ".py",
   "mimetype": "text/x-python",
   "name": "python",
   "nbconvert_exporter": "python",
   "pygments_lexer": "ipython2",
   "version": "2.7.12"
  }
 },
 "nbformat": 4,
 "nbformat_minor": 1
}
